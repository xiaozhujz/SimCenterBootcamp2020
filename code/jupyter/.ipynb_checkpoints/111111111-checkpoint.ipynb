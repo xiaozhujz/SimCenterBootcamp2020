{
 "cells": [
  {
   "cell_type": "code",
   "execution_count": null,
   "metadata": {},
   "outputs": [],
   "source": [
    "class MyClass:\n",
    "    \"\"\"A simple Example class\"\"\"\n",
    "    i = 12345\n",
    "    def f(self):\n",
    "        return 'hello world'\n",
    "    \n"
   ]
  },
  {
   "cell_type": "code",
   "execution_count": null,
   "metadata": {},
   "outputs": [],
   "source": [
    "class Pet(object): # treat the object as keyword\n",
    "    \"\"\"\n",
    "    The Pet class:\n",
    "    \n",
    "    create an object that can remember its name\n",
    "    \"\"\"\n",
    "    \n",
    "    def __init__(self, name='unknown'): # definition of method, \n",
    "        self.name = name\n",
    "    \n",
    "    def __str__(self):\n",
    "        return self.name\n",
    "    \n",
    "    def __repr__(self):\n",
    "        return \"{}(\\\"{}\\\")\".format(self.__class__.__name__,self.name)\n",
    "    \n",
    "    def sound(self):\n",
    "        print(\"{} is silent\".format(self.name))\n",
    "    \n",
    "a = Pet()\n",
    "print(a)"
   ]
  },
  {
   "cell_type": "markdown",
   "metadata": {},
   "source": [
    "Many classes like to create objects with instances ***customized to a specific initial state***. Therefore a class may define a special method named `__init__()`, like this:"
   ]
  },
  {
   "cell_type": "code",
   "execution_count": null,
   "metadata": {},
   "outputs": [],
   "source": [
    "def __init__(self):\n",
    "    self.data = []"
   ]
  },
  {
   "cell_type": "markdown",
   "metadata": {},
   "source": [
    "When a class defines an `__init__() method`, class instantiation automatically invokes` __init__()` for the newly-created class instance. So in this example, a new, initialized instance can be obtained by:"
   ]
  },
  {
   "cell_type": "code",
   "execution_count": 3,
   "metadata": {},
   "outputs": [
    {
     "name": "stdout",
     "output_type": "stream",
     "text": [
      "16\n",
      "16\n",
      "0\n"
     ]
    }
   ],
   "source": [
    "class Myclass(object):\n",
    "    \"\"\"A simple class example\"\"\"\n",
    "    def __init__(self):\n",
    "        self.data = []\n",
    "        self.counter = 0\n",
    "\n",
    "x = Myclass()\n",
    "y = Myclass()\n",
    "x.counter  = 1\n",
    "while x.counter < 10:\n",
    "    x.counter = x.counter * 2\n",
    "print(x.counter)\n",
    "\n",
    "print(y.counter)"
   ]
  },
  {
   "cell_type": "markdown",
   "metadata": {},
   "source": [
    "Of course, the `__init__() method` may have arguments for greater flexibility. In that case, arguments given to the class instantiation operator are passed on to `__init__()`. For example,"
   ]
  },
  {
   "cell_type": "code",
   "execution_count": null,
   "metadata": {},
   "outputs": [],
   "source": [
    "class Complex:\n",
    "    def __init__(self,realpart = 1110,imagpart = 11011):\n",
    "        self.r = realpart\n",
    "        self.i = imagpart\n",
    "x = Complex()\n",
    "x.r,x.i"
   ]
  },
  {
   "cell_type": "markdown",
   "metadata": {},
   "source": [
    "Now what can we do with instance objects? The only operations understood by instance objects are attribute references. There are two kinds of valid attribute names: data attributes and methods.\n",
    "1. data attributes correspond to “instance variables” in Smalltalk, and to “data members” in C++. Data attributes need not be declared; like local variables, they spring into existence when they are first assigned to.\n",
    "2.The other kind of instance attribute reference is a method. ***A method is a function that “belongs to” an object***. (In Python, the term method is not unique to class instances: other object types can have methods as well. For example, list objects have methods called append, insert, remove, sort, and so on. However, in the following discussion, we’ll use the term method exclusively to mean methods of class instance objects, unless explicitly stated otherwise.)\n",
    "\n",
    "Valid method names of an instance object depend on its class. By definition, all attributes of a class that are function objects define corresponding methods of its instances. So in our example, x.f is a valid method reference, since MyClass.f is a function, but x.i is not, since MyClass.i is not. But x.f is not the same thing as MyClass.f — ***it is a method object, not a function object***."
   ]
  },
  {
   "cell_type": "code",
   "execution_count": null,
   "metadata": {},
   "outputs": [],
   "source": [
    "class MyClass:\n",
    "    \"\"\"A simple Example class\"\"\"\n",
    "    i = 12345\n",
    "    def f(self):\n",
    "        return 'hello world'\n",
    "x = MyClass()\n",
    "x.f()"
   ]
  },
  {
   "cell_type": "markdown",
   "metadata": {},
   "source": [
    "Usually, a method is called right after it is bound:\n",
    "\n",
    "However, it is not necessary to call a method right away: `x.f is a method object`, and _can be stored away and called at a later time_. For example:"
   ]
  },
  {
   "cell_type": "code",
   "execution_count": null,
   "metadata": {
    "scrolled": false
   },
   "outputs": [],
   "source": [
    "xf = x.f\n",
    "\n",
    "print(xf())"
   ]
  },
  {
   "cell_type": "code",
   "execution_count": null,
   "metadata": {},
   "outputs": [],
   "source": [
    "class Pet(object): # treat the object as keyword (give more feedback)\n",
    "    \"\"\"\n",
    "    The Pet class:\n",
    "    \n",
    "    create an object that can remember its name\n",
    "    \"\"\"\n",
    "    \n",
    "    def __init__(self, name='unknown'): # definition of method (and initial state of the created objects with instance)\n",
    "        self.name = name\n",
    "    \n",
    "    def __str__(self):\n",
    "        return self.name\n",
    "    \n",
    "    def __repr__(self):\n",
    "        return \"{}(\\\"{}\\\")\".format(self.__class__.__name__,self.name)\n",
    "    \n",
    "    def sound(self):\n",
    "        print(\"{} is silent\".format(self.name))\n",
    "        \n",
    "a = Pet('Buddy')\n"
   ]
  },
  {
   "cell_type": "markdown",
   "metadata": {},
   "source": []
  }
 ],
 "metadata": {
  "kernelspec": {
   "display_name": "Python 3",
   "language": "python",
   "name": "python3"
  },
  "language_info": {
   "codemirror_mode": {
    "name": "ipython",
    "version": 3
   },
   "file_extension": ".py",
   "mimetype": "text/x-python",
   "name": "python",
   "nbconvert_exporter": "python",
   "pygments_lexer": "ipython3",
   "version": "3.7.4"
  }
 },
 "nbformat": 4,
 "nbformat_minor": 2
}
